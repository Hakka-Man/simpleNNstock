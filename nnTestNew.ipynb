{
 "cells": [
  {
   "cell_type": "code",
   "execution_count": 63,
   "metadata": {},
   "outputs": [],
   "source": [
    "import torch\n",
    "import torchvision\n",
    "import os\n",
    "import torchvision.transforms as transforms\n",
    "from torch.utils.data import Dataset, DataLoader"
   ]
  },
  {
   "cell_type": "code",
   "execution_count": 64,
   "metadata": {},
   "outputs": [],
   "source": [
    "# transform = transforms.Compose(\n",
    "#     [transforms.ToTensor(),\n",
    "#      transforms.Normalize((0.5, 0.5, 0.5), (0.5, 0.5, 0.5))])\n",
    "\n",
    "# batch_size = 4\n",
    "\n",
    "# trainset = torchvision.datasets.CIFAR10(root='./data', train=True,\n",
    "#                                         download=True, transform=transform)\n",
    "# trainloader = torch.utils.data.DataLoader(trainset, batch_size=batch_size,\n",
    "#                                           shuffle=True, num_workers=2)\n",
    "\n",
    "# testset = torchvision.datasets.CIFAR10(root='./data', train=False,\n",
    "#                                        download=True, transform=transform)\n",
    "# testloader = torch.utils.data.DataLoader(testset, batch_size=batch_size,\n",
    "#                                          shuffle=False, num_workers=2)\n",
    "\n",
    "# classes = ('plane', 'car', 'bird', 'cat',\n",
    "#            'deer', 'dog', 'frog', 'horse', 'ship', 'truck')"
   ]
  },
  {
   "cell_type": "code",
   "execution_count": 65,
   "metadata": {},
   "outputs": [],
   "source": [
    "directory = 'processedDataset/'\n",
    "class StockDataset(Dataset):\n",
    "    def __init__(self):\n",
    "        self.data = []\n",
    "        i = 0\n",
    "        tempData = os.listdir(directory)\n",
    "        while i < 640:\n",
    "            f = os.path.join(directory, tempData[i])\n",
    "            if torch.any(torch.isnan(torch.load(f))):\n",
    "                print(f + \" contains nan\")\n",
    "                continue\n",
    "            else:\n",
    "                label = int(torch.load(f)[0][0] > torch.load(f)[1][0])\n",
    "                self.data.append([torch.load(f).float(), label])\n",
    "                i += 1\n",
    "                # if filename.split('-')[2].replace(\".pt\",\"\") == '1':\n",
    "                #     Y.append(torch.tensor([0,1]).float())\n",
    "                # else:\n",
    "                #     Y.append(torch.tensor([1,0]).float())\n",
    "            \n",
    "\n",
    "    def __len__(self):\n",
    "        return len(self.data)\n",
    "\n",
    "    def __getitem__(self, i):\n",
    "        return self.data[i][0], self.data[i][1]"
   ]
  },
  {
   "cell_type": "code",
   "execution_count": 66,
   "metadata": {},
   "outputs": [],
   "source": [
    "class TestStockDataset(Dataset):\n",
    "    def __init__(self):\n",
    "        self.data = []\n",
    "        i = 0\n",
    "        tempData = os.listdir(directory)\n",
    "        tempData.reverse()\n",
    "        while i < 64:\n",
    "            f = os.path.join(directory, tempData[i])\n",
    "            if torch.any(torch.isnan(torch.load(f))):\n",
    "                print(f + \" contains nan\")\n",
    "                continue\n",
    "            else:\n",
    "                label = int(torch.load(f)[0][0] > torch.load(f)[1][0])\n",
    "                self.data.append([torch.load(f).float(), label])\n",
    "                i += 1\n",
    "                # if filename.split('-')[2].replace(\".pt\",\"\") == '1':\n",
    "                #     Y.append(torch.tensor([0,1]).float())\n",
    "                # else:\n",
    "                #     Y.append(torch.tensor([1,0]).float())\n",
    "            \n",
    "\n",
    "    def __len__(self):\n",
    "        return len(self.data)\n",
    "\n",
    "    def __getitem__(self, i):\n",
    "        return self.data[i][0], self.data[i][1]"
   ]
  },
  {
   "cell_type": "code",
   "execution_count": 67,
   "metadata": {},
   "outputs": [],
   "source": [
    "batch_size = 64\n",
    "stockDataset = StockDataset()\n",
    "testDataset = TestStockDataset()\n",
    "trainloader = torch.utils.data.DataLoader(stockDataset, batch_size=batch_size, shuffle=True)\n",
    "testloader = torch.utils.data.DataLoader(testDataset, batch_size=batch_size, shuffle=False)\n"
   ]
  },
  {
   "cell_type": "code",
   "execution_count": 68,
   "metadata": {},
   "outputs": [],
   "source": [
    "import torch.nn as nn\n",
    "import torch.nn.functional as F\n",
    "\n",
    "\n",
    "class Net(nn.Module):\n",
    "    def __init__(self):\n",
    "        super().__init__()\n",
    "        # self.conv1 = nn.Conv2d(3, 6, 5)\n",
    "        # self.pool = nn.MaxPool2d(2, 2)\n",
    "        # self.conv2 = nn.Conv2d(6, 16, 5)\n",
    "        self.fc1 = nn.Linear(104 * 22, 2)\n",
    "        # self.fc2 = nn.Linear(120, 84)\n",
    "        # self.fc3 = nn.Linear(84, 2)\n",
    "    def forward(self, x):\n",
    "        # x = self.pool(F.relu(self.conv1(x)))\n",
    "        # x = self.pool(F.relu(self.conv2(x)))\n",
    "        x = torch.flatten(x, 1) # flatten all dimensions except batch\n",
    "        x = torch.nn.functional.normalize(x, p=2.0, dim = 1)\n",
    "        x = F.relu(self.fc1(x))\n",
    "        x = F.relu(self.fc2(x))\n",
    "        x = self.fc3(x)\n",
    "        return x\n",
    "\n",
    "\n",
    "net = Net()"
   ]
  },
  {
   "cell_type": "code",
   "execution_count": 69,
   "metadata": {},
   "outputs": [],
   "source": [
    "import torch.optim as optim\n",
    "\n",
    "criterion = nn.CrossEntropyLoss()\n",
    "optimizer = optim.SGD(net.parameters(), lr=0.001, momentum=0.9)"
   ]
  },
  {
   "cell_type": "code",
   "execution_count": 70,
   "metadata": {},
   "outputs": [
    {
     "name": "stdout",
     "output_type": "stream",
     "text": [
      "epoch: 0 loss: 6.939375162124634\n",
      "epoch: 1000 loss: 6.870863676071167\n",
      "epoch: 2000 loss: 6.125310301780701\n",
      "epoch: 3000 loss: 5.071214914321899\n",
      "epoch: 4000 loss: 4.050320774316788\n",
      "epoch: 5000 loss: 3.176154524087906\n",
      "epoch: 6000 loss: 2.4302315711975098\n",
      "epoch: 7000 loss: 2.0173362344503403\n",
      "epoch: 8000 loss: 1.5756012946367264\n",
      "epoch: 9000 loss: 1.357030525803566\n",
      "epoch: 10000 loss: 1.168140061199665\n",
      "epoch: 11000 loss: 0.9640117846429348\n",
      "epoch: 12000 loss: 1.1862583830952644\n",
      "epoch: 13000 loss: 1.0240997076034546\n",
      "epoch: 14000 loss: 1.163794856518507\n",
      "epoch: 15000 loss: 1.014127317816019\n",
      "epoch: 16000 loss: 0.718271404504776\n",
      "epoch: 17000 loss: 1.305546935647726\n",
      "epoch: 18000 loss: 0.7716758288443089\n",
      "epoch: 19000 loss: 0.7042012587189674\n",
      "epoch: 20000 loss: 0.653628995642066\n",
      "epoch: 21000 loss: 0.5941862910985947\n",
      "epoch: 22000 loss: 0.6818428440019488\n",
      "epoch: 23000 loss: 0.6513511799275875\n",
      "epoch: 24000 loss: 0.629453893750906\n",
      "epoch: 25000 loss: 0.7044539488852024\n",
      "epoch: 26000 loss: 0.532787661999464\n",
      "epoch: 27000 loss: 0.825673608109355\n",
      "epoch: 28000 loss: 0.5671319924294949\n",
      "epoch: 29000 loss: 0.49266430269926786\n",
      "epoch: 30000 loss: 0.8335715103894472\n",
      "epoch: 31000 loss: 0.5415716152638197\n",
      "epoch: 32000 loss: 0.5254806904122233\n",
      "epoch: 33000 loss: 0.41082490142434835\n",
      "epoch: 34000 loss: 0.4500757083296776\n",
      "epoch: 35000 loss: 0.5852655521593988\n",
      "epoch: 36000 loss: 0.42278557270765305\n",
      "epoch: 37000 loss: 0.4670840175822377\n",
      "epoch: 38000 loss: 0.41826268658041954\n",
      "epoch: 39000 loss: 0.3525240560993552\n",
      "epoch: 40000 loss: 0.5386216323822737\n",
      "epoch: 41000 loss: 0.5703547801822424\n",
      "epoch: 42000 loss: 0.33586770528927445\n",
      "epoch: 43000 loss: 0.5836358461529016\n",
      "epoch: 44000 loss: 0.7048266232013702\n",
      "epoch: 45000 loss: 0.3663621600717306\n",
      "epoch: 46000 loss: 0.32479844242334366\n",
      "epoch: 47000 loss: 0.3575061056762934\n",
      "epoch: 48000 loss: 0.4191178549081087\n",
      "epoch: 49000 loss: 0.4487235452979803\n",
      "epoch: 50000 loss: 0.3474455438554287\n",
      "epoch: 51000 loss: 0.3403472079662606\n",
      "epoch: 52000 loss: 0.2890439862385392\n",
      "epoch: 53000 loss: 0.34892466524615884\n",
      "epoch: 54000 loss: 0.36166368052363396\n",
      "epoch: 55000 loss: 0.2780363950878382\n",
      "epoch: 56000 loss: 0.34792639897204936\n",
      "epoch: 57000 loss: 0.5557759366929531\n",
      "epoch: 58000 loss: 0.46427334286272526\n",
      "epoch: 59000 loss: 0.31872124690562487\n",
      "epoch: 60000 loss: 0.5947467174846679\n",
      "epoch: 61000 loss: 0.3617522707208991\n",
      "epoch: 62000 loss: 0.27800267934799194\n",
      "epoch: 63000 loss: 0.27007146971300244\n",
      "epoch: 64000 loss: 0.25637246761471033\n",
      "epoch: 65000 loss: 0.35881337989121675\n",
      "epoch: 66000 loss: 0.27227768767625093\n",
      "epoch: 67000 loss: 0.30398266040720046\n",
      "epoch: 68000 loss: 0.3663637018762529\n",
      "epoch: 69000 loss: 0.39562474051490426\n",
      "epoch: 70000 loss: 0.369774007005617\n",
      "epoch: 71000 loss: 0.3713919227011502\n",
      "epoch: 72000 loss: 0.2340280655771494\n",
      "epoch: 73000 loss: 0.3499268419109285\n",
      "epoch: 74000 loss: 0.21944257616996765\n",
      "epoch: 75000 loss: 0.24492311058565974\n",
      "epoch: 76000 loss: 0.25008219573646784\n",
      "epoch: 77000 loss: 0.2518850089982152\n",
      "epoch: 78000 loss: 0.27569479402154684\n",
      "epoch: 79000 loss: 0.4264849592000246\n",
      "epoch: 80000 loss: 0.2302430341951549\n",
      "epoch: 81000 loss: 0.37840484362095594\n",
      "epoch: 82000 loss: 0.34147998911794275\n",
      "epoch: 83000 loss: 0.3492388757877052\n",
      "epoch: 84000 loss: 0.2914286518935114\n",
      "epoch: 85000 loss: 0.4869030714035034\n",
      "epoch: 86000 loss: 0.2523202304728329\n",
      "epoch: 87000 loss: 0.23219968611374497\n",
      "epoch: 88000 loss: 0.24706674925982952\n",
      "epoch: 89000 loss: 0.35035289148800075\n",
      "epoch: 90000 loss: 0.2613019577693194\n",
      "epoch: 91000 loss: 0.23858998902142048\n",
      "epoch: 92000 loss: 0.26693592476658523\n",
      "epoch: 93000 loss: 0.3610152145847678\n",
      "epoch: 94000 loss: 0.19805151945911348\n",
      "epoch: 95000 loss: 0.22927505616098642\n",
      "epoch: 96000 loss: 0.24754866096191108\n",
      "epoch: 97000 loss: 0.3270709654316306\n",
      "epoch: 98000 loss: 0.20386306790169328\n",
      "epoch: 99000 loss: 0.198352181003429\n",
      "epoch: 100000 loss: 0.28494652011431754\n",
      "Finished Training\n"
     ]
    }
   ],
   "source": [
    "from cProfile import run\n",
    "import string\n",
    "\n",
    "\n",
    "for epoch in range(100001):  # loop over the dataset multiple times\n",
    "\n",
    "    running_loss = 0.0\n",
    "    for i, data in enumerate(trainloader, 0):\n",
    "        # get the inputs; data is a list of [inputs, labels]\n",
    "        inputs, labels = data\n",
    "\n",
    "        # zero the parameter gradients\n",
    "        optimizer.zero_grad()\n",
    "\n",
    "        # forward + backward + optimize\n",
    "        outputs = net(inputs)\n",
    "        loss = criterion(outputs, labels)\n",
    "        loss.backward()\n",
    "        optimizer.step()\n",
    "\n",
    "        # print statistics\n",
    "        running_loss += loss.item()\n",
    "    if epoch % 1000 == 0:\n",
    "        print(\"epoch: \" + str(epoch) + \" loss: \" + str(running_loss/1))\n",
    "\n",
    "print('Finished Training')"
   ]
  },
  {
   "cell_type": "code",
   "execution_count": 77,
   "metadata": {},
   "outputs": [],
   "source": [
    "PATH = './cifar_net.pth'\n",
    "torch.save(net.state_dict(), PATH)"
   ]
  },
  {
   "cell_type": "code",
   "execution_count": 78,
   "metadata": {},
   "outputs": [
    {
     "data": {
      "text/plain": [
       "<All keys matched successfully>"
      ]
     },
     "execution_count": 78,
     "metadata": {},
     "output_type": "execute_result"
    }
   ],
   "source": [
    "net = Net()\n",
    "net.load_state_dict(torch.load(PATH))"
   ]
  },
  {
   "cell_type": "code",
   "execution_count": 79,
   "metadata": {},
   "outputs": [],
   "source": [
    "dataiter = iter(testloader)\n",
    "stocks, labels = dataiter.next()"
   ]
  },
  {
   "cell_type": "code",
   "execution_count": 80,
   "metadata": {},
   "outputs": [],
   "source": [
    "outputs = net(stocks)"
   ]
  },
  {
   "cell_type": "code",
   "execution_count": 81,
   "metadata": {},
   "outputs": [
    {
     "name": "stdout",
     "output_type": "stream",
     "text": [
      "tensor([1, 0, 0, 0, 1, 1, 1, 1, 1, 0, 0, 1, 1, 1, 0, 0, 0, 0, 1, 0, 1, 1, 0, 0,\n",
      "        0, 1, 1, 1, 0, 1, 1, 1, 0, 1, 1, 1, 1, 0, 1, 0, 0, 1, 0, 0, 1, 1, 1, 1,\n",
      "        0, 1, 0, 0, 0, 0, 1, 0, 0, 1, 0, 1, 1, 1, 0, 0])\n",
      "tensor([0, 0, 0, 0, 1, 1, 1, 0, 1, 0, 1, 1, 1, 1, 0, 0, 1, 0, 0, 0, 1, 0, 0, 0,\n",
      "        0, 0, 0, 1, 1, 1, 0, 1, 0, 1, 0, 1, 1, 1, 1, 1, 1, 1, 1, 0, 0, 0, 1, 1,\n",
      "        0, 0, 0, 0, 1, 0, 1, 0, 1, 0, 0, 0, 0, 1, 1, 1])\n"
     ]
    }
   ],
   "source": [
    "_, predicted = torch.max(outputs, 1)\n",
    "print(predicted)\n",
    "print(labels)"
   ]
  },
  {
   "cell_type": "code",
   "execution_count": 82,
   "metadata": {},
   "outputs": [
    {
     "name": "stdout",
     "output_type": "stream",
     "text": [
      "Accuracy of the network on the 10000 test images: 60 %\n"
     ]
    }
   ],
   "source": [
    "correct = 0\n",
    "total = 0\n",
    "# since we're not training, we don't need to calculate the gradients for our outputs\n",
    "with torch.no_grad():\n",
    "    for data in testloader:\n",
    "        images, labels = data\n",
    "        # calculate outputs by running images through the network\n",
    "        outputs = net(images)\n",
    "        # the class with the highest energy is what we choose as prediction\n",
    "        _, predicted = torch.max(outputs.data, 1)\n",
    "        total += labels.size(0)\n",
    "        correct += (predicted == labels).sum().item()\n",
    "\n",
    "print(f'Accuracy of the network on the 10000 test images: {100 * correct // total} %')"
   ]
  },
  {
   "cell_type": "code",
   "execution_count": null,
   "metadata": {},
   "outputs": [],
   "source": []
  }
 ],
 "metadata": {
  "kernelspec": {
   "display_name": "Python 3.9.12 ('simpleNNstock')",
   "language": "python",
   "name": "python3"
  },
  "language_info": {
   "codemirror_mode": {
    "name": "ipython",
    "version": 3
   },
   "file_extension": ".py",
   "mimetype": "text/x-python",
   "name": "python",
   "nbconvert_exporter": "python",
   "pygments_lexer": "ipython3",
   "version": "3.9.12"
  },
  "orig_nbformat": 4,
  "vscode": {
   "interpreter": {
    "hash": "d30658fedb253a0fe01946805c369386cc92ad4c6d3b31839e09b4dcbfacc89a"
   }
  }
 },
 "nbformat": 4,
 "nbformat_minor": 2
}
