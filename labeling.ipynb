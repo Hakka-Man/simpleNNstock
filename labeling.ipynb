{
 "cells": [
  {
   "cell_type": "code",
   "execution_count": 36,
   "metadata": {},
   "outputs": [],
   "source": [
    "import pandas as pd\n",
    "import os\n",
    "import numpy as np"
   ]
  },
  {
   "cell_type": "code",
   "execution_count": 37,
   "metadata": {},
   "outputs": [],
   "source": [
    "directory = \"trainingDataset/\"\n",
    "for filename in os.listdir(directory):\n",
    "    f = os.path.join(directory, filename)\n",
    "    # if os.path.isfile(f):\n",
    "    df = pd.read_pickle(f)\n",
    "    df[22] = df[0].rolling(4).mean()\n",
    "    df[23] = -1\n",
    "    for index, element in df.iterrows():\n",
    "        if not index < 4 and not index + 20 >= len(df):\n",
    "            df.at[index, 23] = 0 if df.at[index,22]*1.1 > df.at[index+20, 22] else 1\n",
    "    df.to_pickle(f)"
   ]
  }
 ],
 "metadata": {
  "kernelspec": {
   "display_name": "Python 3.9.12 ('simpleNNstock')",
   "language": "python",
   "name": "python3"
  },
  "language_info": {
   "codemirror_mode": {
    "name": "ipython",
    "version": 3
   },
   "file_extension": ".py",
   "mimetype": "text/x-python",
   "name": "python",
   "nbconvert_exporter": "python",
   "pygments_lexer": "ipython3",
   "version": "3.9.12"
  },
  "orig_nbformat": 4,
  "vscode": {
   "interpreter": {
    "hash": "d30658fedb253a0fe01946805c369386cc92ad4c6d3b31839e09b4dcbfacc89a"
   }
  }
 },
 "nbformat": 4,
 "nbformat_minor": 2
}
