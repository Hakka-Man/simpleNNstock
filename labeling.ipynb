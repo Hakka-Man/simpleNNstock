{
 "cells": [
  {
   "cell_type": "code",
   "execution_count": 3,
   "metadata": {},
   "outputs": [],
   "source": [
    "import pandas as pd\n",
    "import os\n",
    "import numpy as np\n",
    "import torch"
   ]
  },
  {
   "cell_type": "code",
   "execution_count": 4,
   "metadata": {},
   "outputs": [
    {
     "ename": "KeyboardInterrupt",
     "evalue": "",
     "output_type": "error",
     "traceback": [
      "\u001b[0;31m---------------------------------------------------------------------------\u001b[0m",
      "\u001b[0;31mKeyboardInterrupt\u001b[0m                         Traceback (most recent call last)",
      "\u001b[1;32m/home/exitialium/projects/simpleNNstock/labeling.ipynb Cell 2\u001b[0m in \u001b[0;36m<cell line: 2>\u001b[0;34m()\u001b[0m\n\u001b[1;32m      <a href='vscode-notebook-cell://wsl%2Bubuntu/home/exitialium/projects/simpleNNstock/labeling.ipynb#ch0000001vscode-remote?line=7'>8</a>\u001b[0m \u001b[39mfor\u001b[39;00m index, element \u001b[39min\u001b[39;00m df\u001b[39m.\u001b[39miterrows():\n\u001b[1;32m      <a href='vscode-notebook-cell://wsl%2Bubuntu/home/exitialium/projects/simpleNNstock/labeling.ipynb#ch0000001vscode-remote?line=8'>9</a>\u001b[0m     \u001b[39mif\u001b[39;00m \u001b[39mnot\u001b[39;00m index \u001b[39m<\u001b[39m \u001b[39m4\u001b[39m \u001b[39mand\u001b[39;00m \u001b[39mnot\u001b[39;00m index \u001b[39m+\u001b[39m \u001b[39m20\u001b[39m \u001b[39m>\u001b[39m\u001b[39m=\u001b[39m \u001b[39mlen\u001b[39m(df):\n\u001b[0;32m---> <a href='vscode-notebook-cell://wsl%2Bubuntu/home/exitialium/projects/simpleNNstock/labeling.ipynb#ch0000001vscode-remote?line=9'>10</a>\u001b[0m         df\u001b[39m.\u001b[39mat[index, \u001b[39m23\u001b[39m] \u001b[39m=\u001b[39m \u001b[39m0\u001b[39m \u001b[39mif\u001b[39;00m df\u001b[39m.\u001b[39;49mat[index,\u001b[39m22\u001b[39;49m]\u001b[39m*\u001b[39m\u001b[39m1.1\u001b[39m \u001b[39m>\u001b[39m df\u001b[39m.\u001b[39mat[index\u001b[39m+\u001b[39m\u001b[39m20\u001b[39m, \u001b[39m22\u001b[39m] \u001b[39melse\u001b[39;00m \u001b[39m1\u001b[39m\n\u001b[1;32m     <a href='vscode-notebook-cell://wsl%2Bubuntu/home/exitialium/projects/simpleNNstock/labeling.ipynb#ch0000001vscode-remote?line=10'>11</a>\u001b[0m df\u001b[39m.\u001b[39mto_pickle(f)\n",
      "File \u001b[0;32m~/miniconda3/envs/simpleNNstock/lib/python3.8/site-packages/pandas/core/indexing.py:2270\u001b[0m, in \u001b[0;36m_AtIndexer.__getitem__\u001b[0;34m(self, key)\u001b[0m\n\u001b[1;32m   2267\u001b[0m         \u001b[39mraise\u001b[39;00m \u001b[39mValueError\u001b[39;00m(\u001b[39m\"\u001b[39m\u001b[39mInvalid call for scalar access (getting)!\u001b[39m\u001b[39m\"\u001b[39m)\n\u001b[1;32m   2268\u001b[0m     \u001b[39mreturn\u001b[39;00m \u001b[39mself\u001b[39m\u001b[39m.\u001b[39mobj\u001b[39m.\u001b[39mloc[key]\n\u001b[0;32m-> 2270\u001b[0m \u001b[39mreturn\u001b[39;00m \u001b[39msuper\u001b[39;49m()\u001b[39m.\u001b[39;49m\u001b[39m__getitem__\u001b[39;49m(key)\n",
      "File \u001b[0;32m~/miniconda3/envs/simpleNNstock/lib/python3.8/site-packages/pandas/core/indexing.py:2221\u001b[0m, in \u001b[0;36m_ScalarAccessIndexer.__getitem__\u001b[0;34m(self, key)\u001b[0m\n\u001b[1;32m   2218\u001b[0m         \u001b[39mraise\u001b[39;00m \u001b[39mValueError\u001b[39;00m(\u001b[39m\"\u001b[39m\u001b[39mInvalid call for scalar access (getting)!\u001b[39m\u001b[39m\"\u001b[39m)\n\u001b[1;32m   2220\u001b[0m key \u001b[39m=\u001b[39m \u001b[39mself\u001b[39m\u001b[39m.\u001b[39m_convert_key(key)\n\u001b[0;32m-> 2221\u001b[0m \u001b[39mreturn\u001b[39;00m \u001b[39mself\u001b[39;49m\u001b[39m.\u001b[39;49mobj\u001b[39m.\u001b[39;49m_get_value(\u001b[39m*\u001b[39;49mkey, takeable\u001b[39m=\u001b[39;49m\u001b[39mself\u001b[39;49m\u001b[39m.\u001b[39;49m_takeable)\n",
      "File \u001b[0;32m~/miniconda3/envs/simpleNNstock/lib/python3.8/site-packages/pandas/core/frame.py:3623\u001b[0m, in \u001b[0;36mDataFrame._get_value\u001b[0;34m(self, index, col, takeable)\u001b[0m\n\u001b[1;32m   3618\u001b[0m \u001b[39mif\u001b[39;00m \u001b[39mnot\u001b[39;00m \u001b[39misinstance\u001b[39m(\u001b[39mself\u001b[39m\u001b[39m.\u001b[39mindex, MultiIndex):\n\u001b[1;32m   3619\u001b[0m     \u001b[39m# CategoricalIndex: Trying to use the engine fastpath may give incorrect\u001b[39;00m\n\u001b[1;32m   3620\u001b[0m     \u001b[39m#  results if our categories are integers that dont match our codes\u001b[39;00m\n\u001b[1;32m   3621\u001b[0m     \u001b[39m# IntervalIndex: IntervalTree has no get_loc\u001b[39;00m\n\u001b[1;32m   3622\u001b[0m     row \u001b[39m=\u001b[39m \u001b[39mself\u001b[39m\u001b[39m.\u001b[39mindex\u001b[39m.\u001b[39mget_loc(index)\n\u001b[0;32m-> 3623\u001b[0m     \u001b[39mreturn\u001b[39;00m series\u001b[39m.\u001b[39;49m_values[row]\n\u001b[1;32m   3625\u001b[0m \u001b[39m# For MultiIndex going through engine effectively restricts us to\u001b[39;00m\n\u001b[1;32m   3626\u001b[0m \u001b[39m#  same-length tuples; see test_get_set_value_no_partial_indexing\u001b[39;00m\n\u001b[1;32m   3627\u001b[0m loc \u001b[39m=\u001b[39m engine\u001b[39m.\u001b[39mget_loc(index)\n",
      "\u001b[0;31mKeyboardInterrupt\u001b[0m: "
     ]
    }
   ],
   "source": [
    "directory = \"trainingDataset/\"\n",
    "for filename in os.listdir(directory):\n",
    "    f = os.path.join(directory, filename)\n",
    "    # if os.path.isfile(f):\n",
    "    df = pd.read_pickle(f)\n",
    "    df[22] = df[0].rolling(4).mean()\n",
    "    df[23] = -1\n",
    "    for index, element in df.iterrows():\n",
    "        if not index < 4 and not index + 20 >= len(df):\n",
    "            df.at[index, 23] = 0 if df.at[index,22]*1.1 > df.at[index+20, 22] else 1\n",
    "    df.to_pickle(f)"
   ]
  },
  {
   "cell_type": "code",
   "execution_count": 4,
   "metadata": {},
   "outputs": [],
   "source": [
    "directory = \"trainingDataset/\"\n",
    "for filename in os.listdir(directory):\n",
    "    f = os.path.join(directory, filename)\n",
    "    df = pd.read_pickle(f)\n",
    "    k = 0\n",
    "    for i in range(0,len(df) - 104 - 20, 8):\n",
    "        newDf = df[i:i+104]\n",
    "        label = newDf.iat[-1,23]\n",
    "        newDf = newDf.drop([22,23], axis = 1)\n",
    "        # print(newDf)\n",
    "        tensor = torch.tensor(newDf.values)\n",
    "        torch.save(tensor, 'processedDataset/' + filename.replace('.pkl','-' + str(k) + '-' + str(label)))\n",
    "        k += 1\n"
   ]
  },
  {
   "cell_type": "code",
   "execution_count": null,
   "metadata": {},
   "outputs": [],
   "source": []
  }
 ],
 "metadata": {
  "kernelspec": {
   "display_name": "Python 3.8.13 ('simpleNNstock')",
   "language": "python",
   "name": "python3"
  },
  "language_info": {
   "codemirror_mode": {
    "name": "ipython",
    "version": 3
   },
   "file_extension": ".py",
   "mimetype": "text/x-python",
   "name": "python",
   "nbconvert_exporter": "python",
   "pygments_lexer": "ipython3",
   "version": "3.8.13"
  },
  "orig_nbformat": 4,
  "vscode": {
   "interpreter": {
    "hash": "c2720a444646040c132464196dab3e0da7b1bec73715b9149c928caaac8bbc80"
   }
  }
 },
 "nbformat": 4,
 "nbformat_minor": 2
}
