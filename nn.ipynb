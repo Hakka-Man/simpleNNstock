{
 "cells": [
  {
   "cell_type": "code",
   "execution_count": null,
   "metadata": {},
   "outputs": [],
   "source": [
    "import os\n",
    "import torch\n",
    "from torch import optim, nn, utils, Tensor\n",
    "import pandas as pd\n",
    "import torch.nn.functional as F\n",
    "import pytorch_lightning as pl\n",
    "from torch.utils.data import Dataset\n",
    "import numpy as np\n",
    "torch.manual_seed(0)"
   ]
  },
  {
   "cell_type": "code",
   "execution_count": null,
   "metadata": {},
   "outputs": [],
   "source": [
    "from numpy import double\n",
    "device = \"cuda\" if torch.cuda.is_available() else \"cpu\"\n",
    "\n",
    "class SimpleNN(pl.LightningModule):\n",
    "    def __init__(self):\n",
    "        super().__init__()\n",
    "        # an affine operation: y = Wx + b\n",
    "        self.fc1 = nn.Linear(104 * 22, 500)\n",
    "        self.fc2 = nn.Linear(500, 100)\n",
    "        self.fc3 = nn.Linear(100, 20)\n",
    "        self.fc4 = nn.Linear(20, 5)\n",
    "        self.fc5 = nn.Linear(5, 2)\n",
    "        self.soft = nn.Softmax(dim = 0)\n",
    "    \n",
    "    def forward(self, x):\n",
    "        x = torch.flatten(x)\n",
    "        x = F.relu(self.fc1(x))\n",
    "        x = F.relu(self.fc2(x))\n",
    "        x = F.relu(self.fc3(x))\n",
    "        x = F.relu(self.fc4(x))\n",
    "        x = self.fc5(x)\n",
    "        return x\n",
    "\n",
    "    def training_step(self, batch, batch_idx):\n",
    "        x, y = batch\n",
    "        logits = self(x)\n",
    "        # x = self.soft(x)\n",
    "        lossFunc = nn.CrossEntropyLoss()\n",
    "        if y == \"1\":\n",
    "            y = torch.tensor([0,1]).float()\n",
    "        else:\n",
    "            y = torch.tensor([1,0]).float()\n",
    "        print(self.soft(logits), y)\n",
    "        loss = lossFunc(logits, y)\n",
    "        return loss\n",
    "\n",
    "    def configure_optimizers(self):\n",
    "        optimizer = optim.Adam(self.parameters(), lr = 1e-3)\n",
    "        return optimizer\n"
   ]
  },
  {
   "cell_type": "code",
   "execution_count": null,
   "metadata": {},
   "outputs": [],
   "source": [
    "simpleNN = SimpleNN().to(device).double()\n",
    "print(simpleNN)"
   ]
  },
  {
   "cell_type": "code",
   "execution_count": null,
   "metadata": {},
   "outputs": [],
   "source": [
    "directory = 'processedDataset/'\n",
    "X = list()\n",
    "Y = list()\n",
    "for filename in os.listdir(directory)[0:320]:\n",
    "    f = os.path.join(directory, filename)\n",
    "    X.append(torch.load(f))\n",
    "    if filename.split('-')[2].replace(\".pt\",\"\") == '1':\n",
    "        Y.append(torch.tensor([0,1]).float())\n",
    "    else:\n",
    "        Y.append(torch.tensor([1,0]).float())"
   ]
  },
  {
   "cell_type": "code",
   "execution_count": null,
   "metadata": {},
   "outputs": [],
   "source": [
    "print(Y)\n",
    "Y[1] == \"1\""
   ]
  },
  {
   "cell_type": "code",
   "execution_count": null,
   "metadata": {},
   "outputs": [],
   "source": [
    "from numpy import double\n",
    "\n",
    "\n",
    "class stockDataset(Dataset):\n",
    "    def __init__(self, X, Y):\n",
    "        super().__init__()\n",
    "        self.labels = Y\n",
    "        self.data = X\n",
    "    def __len__(self):\n",
    "        return len(self.data)\n",
    "    def __getitem__(self, index):\n",
    "        print(self.labels[index])\n",
    "        return self.data[index], self.labels[index]"
   ]
  },
  {
   "cell_type": "code",
   "execution_count": null,
   "metadata": {},
   "outputs": [],
   "source": [
    "dataset = stockDataset(X,Y)"
   ]
  },
  {
   "cell_type": "code",
   "execution_count": null,
   "metadata": {},
   "outputs": [],
   "source": [
    "train, test = torch.utils.data.random_split(dataset, [320,0])"
   ]
  },
  {
   "cell_type": "code",
   "execution_count": null,
   "metadata": {},
   "outputs": [],
   "source": [
    "train_loader = torch.utils.data.DataLoader(train, 1, shuffle = True)\n",
    "# test_loader = torch.utils.data.DataLoader(test, 1, shuffle = True)"
   ]
  },
  {
   "cell_type": "code",
   "execution_count": null,
   "metadata": {},
   "outputs": [],
   "source": [
    "trainer = pl.Trainer(limit_train_batches=100, max_epochs=100)\n",
    "trainer.fit(model=simpleNN, train_dataloaders=train_loader)"
   ]
  },
  {
   "cell_type": "code",
   "execution_count": null,
   "metadata": {},
   "outputs": [],
   "source": [
    "# load checkpoint\n",
    "checkpoint = \"./lightning_logs/version_13/checkpoints/epoch=4-step=500.ckpt\"\n",
    "simpleNN = SimpleNN.load_from_checkpoint(checkpoint).double()\n",
    "\n",
    "# choose your trained nn.Module\n",
    "simpleNN.eval()"
   ]
  },
  {
   "cell_type": "code",
   "execution_count": null,
   "metadata": {},
   "outputs": [],
   "source": [
    "sf = nn.Softmax(dim = 0)\n",
    "simpleNN(X[0])"
   ]
  },
  {
   "cell_type": "code",
   "execution_count": null,
   "metadata": {},
   "outputs": [],
   "source": [
    "print(Y[0])"
   ]
  },
  {
   "cell_type": "code",
   "execution_count": null,
   "metadata": {},
   "outputs": [],
   "source": [
    "for i in range(len(X)):\n",
    "    print(simpleNN(X[i]), Y[i])"
   ]
  },
  {
   "cell_type": "code",
   "execution_count": null,
   "metadata": {},
   "outputs": [],
   "source": [
    "lossFunc = nn.CrossEntropyLoss()\n",
    "input = torch.tensor([0.54,0.78])\n",
    "target = torch.tensor([0,1]).float()\n",
    "print(input)\n",
    "print(target)\n",
    "output = lossFunc(input,target)\n",
    "print(output)"
   ]
  },
  {
   "cell_type": "code",
   "execution_count": null,
   "metadata": {},
   "outputs": [],
   "source": [
    "simpleNN(torch.randn([104, 22], dtype=float))"
   ]
  },
  {
   "cell_type": "code",
   "execution_count": null,
   "metadata": {},
   "outputs": [],
   "source": [
    "# import torch\n",
    "# import torch.nn as nn\n",
    "# import torch.nn.functional as F\n",
    "# import numpy as np\n",
    "\n",
    "# class Model(nn.Module):\n",
    "#     \"\"\"\n",
    "#     Just one Linear layer\n",
    "#     \"\"\"\n",
    "#     def __init__(self, configs):\n",
    "#         super(Model, self).__init__()\n",
    "#         self.seq_len = configs.seq_len\n",
    "#         self.pred_len = configs.pred_len\n",
    "#         self.Linear = nn.Linear(self.seq_len, self.pred_len)\n",
    "#         # Use this line if you want to visualize the weights\n",
    "#         # self.Linear.weight = nn.Parameter((1/self.seq_len)*torch.ones([self.pred_len,self.seq_len]))\n",
    "\n",
    "#     def forward(self, x):\n",
    "#         # x: [Batch, Input length, Channel]\n",
    "#         x = self.Linear(x.permute(0,2,1)).permute(0,2,1)\n",
    "#         return x # [Batch, Output length, Channel]"
   ]
  }
 ],
 "metadata": {
  "kernelspec": {
   "display_name": "Python 3.9.12 ('simpleNNstock')",
   "language": "python",
   "name": "python3"
  },
  "language_info": {
   "codemirror_mode": {
    "name": "ipython",
    "version": 3
   },
   "file_extension": ".py",
   "mimetype": "text/x-python",
   "name": "python",
   "nbconvert_exporter": "python",
   "pygments_lexer": "ipython3",
   "version": "3.9.12"
  },
  "orig_nbformat": 4,
  "vscode": {
   "interpreter": {
    "hash": "d30658fedb253a0fe01946805c369386cc92ad4c6d3b31839e09b4dcbfacc89a"
   }
  }
 },
 "nbformat": 4,
 "nbformat_minor": 2
}
