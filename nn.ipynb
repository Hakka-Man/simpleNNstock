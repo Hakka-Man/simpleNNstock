{
 "cells": [
  {
   "cell_type": "code",
   "execution_count": 1,
   "metadata": {},
   "outputs": [
    {
     "name": "stderr",
     "output_type": "stream",
     "text": [
      "/home/exitialium/miniconda3/envs/simpleNNstock/lib/python3.8/site-packages/tqdm/auto.py:22: TqdmWarning: IProgress not found. Please update jupyter and ipywidgets. See https://ipywidgets.readthedocs.io/en/stable/user_install.html\n",
      "  from .autonotebook import tqdm as notebook_tqdm\n"
     ]
    },
    {
     "data": {
      "text/plain": [
       "<torch._C.Generator at 0x7fb6f5e9a4f0>"
      ]
     },
     "execution_count": 1,
     "metadata": {},
     "output_type": "execute_result"
    }
   ],
   "source": [
    "import os\n",
    "import torch\n",
    "from torch import optim, nn, utils, Tensor\n",
    "import pandas as pd\n",
    "import torch.nn.functional as F\n",
    "import pytorch_lightning as pl\n",
    "torch.manual_seed(0)"
   ]
  },
  {
   "cell_type": "code",
   "execution_count": 8,
   "metadata": {},
   "outputs": [],
   "source": [
    "device = \"cuda\" if torch.cuda.is_available() else \"cpu\"\n",
    "\n",
    "class SimpleNN(pl.LightningModule):\n",
    "    def __init__(self):\n",
    "        super().__init__()\n",
    "        # an affine operation: y = Wx + b\n",
    "        self.fc1 = nn.Linear(104 * 22, 500)\n",
    "        self.fc2 = nn.Linear(500, 100)\n",
    "        self.fc3 = nn.Linear(100, 20)\n",
    "        self.fc4 = nn.Linear(20, 5)\n",
    "        self.fc5 = nn.Linear(5, 2)\n",
    "        self.soft = nn.LogSoftmax(dim = 0)\n",
    "    \n",
    "    def training_step(self, batch, batch_idx):\n",
    "        x, y = batch\n",
    "        x = torch.flatten(x)\n",
    "        x = F.relu(self.fc1(x))\n",
    "        x = F.relu(self.fc2(x))\n",
    "        x = F.relu(self.fc3(x))\n",
    "        x = F.relu(self.fc4(x))\n",
    "        x = self.fc5(x)\n",
    "        x = self.soft(x)\n",
    "        loss = nn.NLLLoss(x,y)\n",
    "        return loss\n",
    "\n",
    "    def configure_optimizers(self):\n",
    "        optimizer = optim.Adam(self.parameters(), lr = 1e-3)\n",
    "        return optimizer\n",
    "\n",
    "    def forward(self, x):\n",
    "        x = torch.flatten(x)\n",
    "        x = F.relu(self.fc1(x))\n",
    "        x = F.relu(self.fc2(x))\n",
    "        x = F.relu(self.fc3(x))\n",
    "        x = F.relu(self.fc4(x))\n",
    "        x = self.fc5(x)\n",
    "        x = self.soft(x)\n",
    "        return x"
   ]
  },
  {
   "cell_type": "code",
   "execution_count": 9,
   "metadata": {},
   "outputs": [
    {
     "name": "stdout",
     "output_type": "stream",
     "text": [
      "SimpleNN(\n",
      "  (fc1): Linear(in_features=2288, out_features=500, bias=True)\n",
      "  (fc2): Linear(in_features=500, out_features=100, bias=True)\n",
      "  (fc3): Linear(in_features=100, out_features=20, bias=True)\n",
      "  (fc4): Linear(in_features=20, out_features=5, bias=True)\n",
      "  (fc5): Linear(in_features=5, out_features=2, bias=True)\n",
      "  (soft): LogSoftmax(dim=0)\n",
      ")\n"
     ]
    }
   ],
   "source": [
    "simpleNN = SimpleNN().to(device)\n",
    "print(simpleNN)"
   ]
  },
  {
   "cell_type": "code",
   "execution_count": 12,
   "metadata": {},
   "outputs": [],
   "source": [
    "directory = 'processedDataset/'\n",
    "X = list()\n",
    "Y = list()\n",
    "for filename in os.listdir(directory)[0:10]:\n",
    "    f = os.path.join(directory, filename)\n",
    "    X.append(torch.load(f))\n",
    "    Y.append(filename.split('-')[2].replace(\".pt\",\"\"))\n",
    "dataset = list(zip(X,Y))"
   ]
  },
  {
   "cell_type": "code",
   "execution_count": 13,
   "metadata": {},
   "outputs": [
    {
     "name": "stdout",
     "output_type": "stream",
     "text": [
      "[(tensor([[4.8000e+00, 4.6321e+07, 1.1880e+01,  ..., 2.1266e+03, 2.0066e+03,\n",
      "         1.0028e+00],\n",
      "        [4.8200e+00, 3.4499e+07, 1.1380e+01,  ..., 2.1266e+03, 2.0101e+03,\n",
      "         1.0017e+00],\n",
      "        [4.4500e+00, 2.8438e+07, 1.1380e+01,  ..., 2.1266e+03, 2.0129e+03,\n",
      "         1.0014e+00],\n",
      "        ...,\n",
      "        [6.2770e+00, 3.7365e+07, 1.0230e+01,  ..., 2.8729e+03, 2.6907e+03,\n",
      "         9.9995e-01],\n",
      "        [6.2480e+00, 3.2417e+07, 1.0230e+01,  ..., 2.8729e+03, 2.6878e+03,\n",
      "         9.9895e-01],\n",
      "        [6.3350e+00, 3.3851e+07, 1.0230e+01,  ..., 2.8729e+03, 2.6880e+03,\n",
      "         1.0001e+00]], dtype=torch.float64), '0'), (tensor([[6.6500e+00, 8.1790e+04, 1.1500e+01,  ..., 2.9456e+03, 2.7923e+03,\n",
      "         1.0028e+00],\n",
      "        [6.3800e+00, 8.0613e+04, 1.1500e+01,  ..., 2.9456e+03, 2.7978e+03,\n",
      "         1.0020e+00],\n",
      "        [6.1100e+00, 8.2626e+04, 1.1500e+01,  ..., 2.9456e+03, 2.7982e+03,\n",
      "         1.0001e+00],\n",
      "        ...,\n",
      "        [3.2700e+00, 9.8319e+04, 1.1500e+01,  ..., 4.1855e+03, 3.8800e+03,\n",
      "         1.0076e+00],\n",
      "        [3.3100e+00, 1.0764e+05, 1.1500e+01,  ..., 4.1855e+03, 3.9073e+03,\n",
      "         1.0070e+00],\n",
      "        [3.8700e+00, 1.1287e+05, 1.1500e+01,  ..., 4.1855e+03, 3.9361e+03,\n",
      "         1.0074e+00]], dtype=torch.float64), '1'), (tensor([[2.4800e+01, 1.7596e+06, 2.6600e+02,  ..., 2.2133e+03, 2.1539e+03,\n",
      "         1.0018e+00],\n",
      "        [2.9200e+01, 2.5602e+06, 2.6600e+02,  ..., 2.2133e+03, 2.1618e+03,\n",
      "         1.0036e+00],\n",
      "        [2.8000e+01, 2.2400e+06, 2.6600e+02,  ..., 2.2595e+03, 2.1690e+03,\n",
      "         1.0034e+00],\n",
      "        ...,\n",
      "        [3.5800e+01, 1.2965e+06, 2.6600e+02,  ..., 2.9297e+03, 2.8096e+03,\n",
      "         9.9995e-01],\n",
      "        [3.6400e+01, 1.1653e+06, 2.6600e+02,  ..., 2.9297e+03, 2.8063e+03,\n",
      "         9.9883e-01],\n",
      "        [3.4400e+01, 7.4850e+05, 2.6600e+02,  ..., 2.9297e+03, 2.7961e+03,\n",
      "         9.9639e-01]], dtype=torch.float64), '0'), (tensor([[1.3900e+01, 1.8158e+06, 2.9820e+01,  ..., 2.2133e+03, 2.1539e+03,\n",
      "         1.0018e+00],\n",
      "        [1.5350e+01, 1.2764e+06, 2.9820e+01,  ..., 2.2133e+03, 2.1618e+03,\n",
      "         1.0036e+00],\n",
      "        [1.5350e+01, 1.8775e+06, 2.9820e+01,  ..., 2.2595e+03, 2.1690e+03,\n",
      "         1.0034e+00],\n",
      "        ...,\n",
      "        [3.0420e+01, 1.8021e+06, 4.0250e+01,  ..., 2.9297e+03, 2.8096e+03,\n",
      "         9.9995e-01],\n",
      "        [2.9450e+01, 1.8955e+06, 4.0250e+01,  ..., 2.9297e+03, 2.8063e+03,\n",
      "         9.9883e-01],\n",
      "        [2.9150e+01, 1.1791e+06, 4.0250e+01,  ..., 2.9297e+03, 2.7961e+03,\n",
      "         9.9639e-01]], dtype=torch.float64), '1'), (tensor([[7.4520e+01, 1.1461e+07, 8.0980e+01,  ..., 2.8729e+03, 2.7476e+03,\n",
      "         1.0023e+00],\n",
      "        [7.7920e+01, 9.9938e+06, 8.0980e+01,  ..., 2.8729e+03, 2.7550e+03,\n",
      "         1.0027e+00],\n",
      "        [7.8270e+01, 7.8419e+06, 8.0980e+01,  ..., 2.8729e+03, 2.7639e+03,\n",
      "         1.0032e+00],\n",
      "        ...,\n",
      "        [4.8990e+01, 1.4772e+07, 9.2910e+01,  ..., 3.3802e+03, 2.9893e+03,\n",
      "         1.0044e+00],\n",
      "        [5.0820e+01, 2.2087e+07, 9.2910e+01,  ..., 3.3802e+03, 3.0019e+03,\n",
      "         1.0042e+00],\n",
      "        [4.9430e+01, 1.3908e+07, 9.2910e+01,  ..., 3.3802e+03, 3.0181e+03,\n",
      "         1.0054e+00]], dtype=torch.float64), '1'), (tensor([[9.9300e+00, 5.3590e+04, 2.0250e+01,  ..., 2.9904e+03, 2.8682e+03,\n",
      "         1.0052e+00],\n",
      "        [9.5200e+00, 6.1054e+04, 2.0250e+01,  ..., 3.0138e+03, 2.8797e+03,\n",
      "         1.0040e+00],\n",
      "        [8.7000e+00, 1.2801e+05, 2.0250e+01,  ..., 3.0138e+03, 2.8933e+03,\n",
      "         1.0047e+00],\n",
      "        ...,\n",
      "        [1.5510e+01, 3.0195e+05, 2.0250e+01,  ..., 4.2474e+03, 4.0614e+03,\n",
      "         1.0037e+00],\n",
      "        [1.4010e+01, 5.0177e+05, 2.0250e+01,  ..., 4.2474e+03, 4.0824e+03,\n",
      "         1.0052e+00],\n",
      "        [1.4480e+01, 5.0316e+05, 2.0250e+01,  ..., 4.2807e+03, 4.1067e+03,\n",
      "         1.0059e+00]], dtype=torch.float64), '1'), (tensor([[2.4500e+01, 1.7272e+07, 1.0242e+02,  ..., 2.9904e+03, 2.8682e+03,\n",
      "         1.0052e+00],\n",
      "        [2.4780e+01, 1.3036e+07, 1.0242e+02,  ..., 3.0138e+03, 2.8797e+03,\n",
      "         1.0040e+00],\n",
      "        [2.2080e+01, 1.1567e+07, 1.0242e+02,  ..., 3.0138e+03, 2.8933e+03,\n",
      "         1.0047e+00],\n",
      "        ...,\n",
      "        [3.5280e+01, 2.7345e+06, 1.0242e+02,  ..., 4.2474e+03, 4.0614e+03,\n",
      "         1.0037e+00],\n",
      "        [3.5700e+01, 2.8701e+06, 1.0242e+02,  ..., 4.2474e+03, 4.0824e+03,\n",
      "         1.0052e+00],\n",
      "        [3.6760e+01, 3.7864e+06, 1.0242e+02,  ..., 4.2807e+03, 4.1067e+03,\n",
      "         1.0059e+00]], dtype=torch.float64), '0'), (tensor([[3.9420e+01, 6.7813e+07, 4.0990e+01,  ..., 2.5002e+03, 2.4423e+03,\n",
      "         1.0023e+00],\n",
      "        [4.0380e+01, 6.4117e+07, 4.0990e+01,  ..., 2.5022e+03, 2.4488e+03,\n",
      "         1.0027e+00],\n",
      "        [4.4930e+01, 1.1602e+08, 4.0990e+01,  ..., 2.5194e+03, 2.4569e+03,\n",
      "         1.0033e+00],\n",
      "        ...,\n",
      "        [3.7090e+01, 2.8069e+07, 4.5880e+01,  ..., 3.0259e+03, 2.9086e+03,\n",
      "         1.0012e+00],\n",
      "        [3.8780e+01, 2.9961e+07, 4.5880e+01,  ..., 3.0259e+03, 2.9150e+03,\n",
      "         1.0022e+00],\n",
      "        [3.8860e+01, 3.8885e+07, 4.5880e+01,  ..., 3.0259e+03, 2.9227e+03,\n",
      "         1.0026e+00]], dtype=torch.float64), '0'), (tensor([[3.4390e+01, 1.3946e+07, 3.3780e+01,  ..., 2.0676e+03, 1.9934e+03,\n",
      "         1.0035e+00],\n",
      "        [3.1960e+01, 1.6671e+07, 3.4390e+01,  ..., 2.0754e+03, 1.9952e+03,\n",
      "         1.0009e+00],\n",
      "        [3.4490e+01, 1.6165e+07, 3.4390e+01,  ..., 2.0754e+03, 2.0011e+03,\n",
      "         1.0030e+00],\n",
      "        ...,\n",
      "        [2.2830e+01, 1.8479e+07, 3.7260e+01,  ..., 2.1841e+03, 2.1410e+03,\n",
      "         1.0013e+00],\n",
      "        [2.3150e+01, 1.5397e+07, 3.7260e+01,  ..., 2.1841e+03, 2.1446e+03,\n",
      "         1.0017e+00],\n",
      "        [2.3980e+01, 7.1046e+06, 3.7260e+01,  ..., 2.1841e+03, 2.1501e+03,\n",
      "         1.0026e+00]], dtype=torch.float64), '0'), (tensor([[2.8114e+02, 1.7178e+06, 2.8520e+02,  ..., 2.8729e+03, 2.6696e+03,\n",
      "         1.0036e+00],\n",
      "        [2.6801e+02, 2.1247e+06, 2.8520e+02,  ..., 2.8729e+03, 2.6750e+03,\n",
      "         1.0020e+00],\n",
      "        [2.8504e+02, 2.3640e+06, 2.8520e+02,  ..., 2.8729e+03, 2.6860e+03,\n",
      "         1.0041e+00],\n",
      "        ...,\n",
      "        [3.8166e+02, 2.7117e+06, 3.8445e+02,  ..., 3.3296e+03, 3.1333e+03,\n",
      "         1.0034e+00],\n",
      "        [3.8544e+02, 1.9666e+06, 3.8445e+02,  ..., 3.3296e+03, 3.1500e+03,\n",
      "         1.0053e+00],\n",
      "        [3.9273e+02, 1.5352e+06, 3.8544e+02,  ..., 3.3296e+03, 3.1695e+03,\n",
      "         1.0062e+00]], dtype=torch.float64), '0')]\n"
     ]
    }
   ],
   "source": [
    "print(dataset)"
   ]
  },
  {
   "cell_type": "code",
   "execution_count": 15,
   "metadata": {},
   "outputs": [],
   "source": [
    "train, test = torch.utils.data.random_split(dataset, [9,1])"
   ]
  },
  {
   "cell_type": "code",
   "execution_count": 21,
   "metadata": {},
   "outputs": [],
   "source": [
    "train_loader = torch.utils.data.DataLoader(train, 64, shuffle = True)\n",
    "test_loader = torch.utils.data.DataLoader(test, 64)"
   ]
  },
  {
   "cell_type": "code",
   "execution_count": null,
   "metadata": {},
   "outputs": [],
   "source": []
  }
 ],
 "metadata": {
  "kernelspec": {
   "display_name": "Python 3.8.13 ('simpleNNstock')",
   "language": "python",
   "name": "python3"
  },
  "language_info": {
   "codemirror_mode": {
    "name": "ipython",
    "version": 3
   },
   "file_extension": ".py",
   "mimetype": "text/x-python",
   "name": "python",
   "nbconvert_exporter": "python",
   "pygments_lexer": "ipython3",
   "version": "3.8.13"
  },
  "orig_nbformat": 4,
  "vscode": {
   "interpreter": {
    "hash": "c2720a444646040c132464196dab3e0da7b1bec73715b9149c928caaac8bbc80"
   }
  }
 },
 "nbformat": 4,
 "nbformat_minor": 2
}
